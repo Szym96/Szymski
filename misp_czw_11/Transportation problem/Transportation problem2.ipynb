{
 "cells": [
  {
   "cell_type": "code",
   "execution_count": 7,
   "metadata": {},
   "outputs": [],
   "source": [
    "from pulp import *\n",
    "import pandas as pd"
   ]
  },
  {
   "cell_type": "code",
   "execution_count": 8,
   "metadata": {},
   "outputs": [],
   "source": [
    "#deklarujemy koszty transportu do każdego z barów \n",
    "KosztXtoBulka = 15\n",
    "KosztXtoPewex = 10\n",
    "KosztXtoKebab = 5\n",
    "KosztYtoBulka = 2\n",
    "KosztYtoPewex = 15\n",
    "KosztYtoKebab = 20\n",
    "\n",
    "prob = LpProblem(\"Najnizszy koszt transportu\", LpMinimize)\n",
    "#deklarujemy zmienne produkcji browaru \n",
    "Xprodukcja = LpVariable(\"Produkcja browaru X\", 0) \n",
    "Yprodukcja = LpVariable(\"Produkcja browaru Y\", 0) \n",
    "#deklarujemy zpotrzebowanie każdego baru\n",
    "BarBulkaZapotrzebowanie = 19\n",
    "BarPewexZapotrzebowanie = 5\n",
    "BarKebabZapotrzebowanie = 10\n",
    "\n",
    "FromXtoBulka = LpVariable(\"Przetransportwane z browaru X do baru bulka\", 0)\n",
    "FromXtoPewex = LpVariable(\"Przetransportwane z browaru X do baru Pewex\", 0)\n",
    "FromXtoKebab = LpVariable(\"Przetransportwane z browaru X do baru kebab\", 0)\n",
    "FromYtoBulka = LpVariable(\"Przetransportwane z browaru Y do baru bulka\", 0)\n",
    "FromYtoPewex = LpVariable(\"Przetransportwane z browaru Y do baru Pewex\", 0)\n",
    "FromYtoKebab = LpVariable(\"Przetransportwane z browaru Y do baru kebab\", 0)\n",
    "FromSrctoBulka = LpVariable(\"Przetransportwane ze zrodla do baru bulka\", 0)\n",
    "FromSrctoPewex = LpVariable(\"Przetransportwane ze zrodla do baru Pewex\", 0)\n",
    "FromSrctoKebab = LpVariable(\"Przetransportwane ze zrodla do baru kebab\", 0)\n",
    "#główna funkcja kosztów \n",
    "prob += FromXtoBulka * KosztXtoBulka + FromXtoPewex * KosztXtoPewex + FromXtoKebab * KosztXtoKebab + FromYtoBulka * KosztYtoBulka + FromYtoPewex * KosztYtoPewex + FromYtoKebab * KosztYtoKebab\n",
    "\n",
    "\n",
    "prob += FromXtoBulka + FromYtoBulka + FromSrctoBulka == BarBulkaZapotrzebowanie\n",
    "prob += FromXtoPewex + FromYtoPewex + FromSrctoPewex == BarPewexZapotrzebowanie\n",
    "prob += FromXtoKebab + FromYtoKebab + FromSrctoKebab == BarKebabZapotrzebowanie\n",
    "prob += FromXtoBulka + FromXtoPewex + FromXtoKebab <= Xprodukcja\n",
    "prob += FromYtoBulka + FromYtoPewex + FromYtoKebab <= Yprodukcja\n",
    "prob += FromXtoBulka + FromXtoPewex + FromXtoKebab + FromYtoBulka + FromYtoPewex + FromYtoKebab <= Xprodukcja + Yprodukcja\n",
    "prob += Xprodukcja == 10\n",
    "prob += Yprodukcja == 20\n",
    "prob += BarBulkaZapotrzebowanie + BarPewexZapotrzebowanie + BarKebabZapotrzebowanie - Xprodukcja - Yprodukcja == FromSrctoBulka + FromSrctoPewex + FromSrctoKebab #ograniczenie zapewnia nam że produkty nie zostaną wzięte ze źródła dopóki nie zostaną wykorzystane wszystkie z produkcji "
   ]
  },
  {
   "cell_type": "code",
   "execution_count": 9,
   "metadata": {},
   "outputs": [
    {
     "name": "stdout",
     "output_type": "stream",
     "text": [
      "Status: Optimal\n",
      "Produkcja_browaru_X = 10.0\n",
      "Produkcja_browaru_Y = 20.0\n",
      "Przetransportwane_z_browaru_X_do_baru_Pewex = 0.0\n",
      "Przetransportwane_z_browaru_X_do_baru_bulka = 0.0\n",
      "Przetransportwane_z_browaru_X_do_baru_kebab = 10.0\n",
      "Przetransportwane_z_browaru_Y_do_baru_Pewex = 1.0\n",
      "Przetransportwane_z_browaru_Y_do_baru_bulka = 19.0\n",
      "Przetransportwane_z_browaru_Y_do_baru_kebab = 0.0\n",
      "Przetransportwane_ze_zrodla_do_baru_Pewex = 4.0\n",
      "Przetransportwane_ze_zrodla_do_baru_bulka = 0.0\n",
      "Przetransportwane_ze_zrodla_do_baru_kebab = 0.0\n",
      "--------------------\n",
      "Najnizszy koszt transportu do barów z magazynów: 103.0 zł  \n",
      "--------------------\n"
     ]
    }
   ],
   "source": [
    "prob.solve()\n",
    "print(\"Status:\", LpStatus[prob.status])\n",
    "\n",
    "for v in prob.variables():\n",
    "    ##if v.varValue != 0:\n",
    "        print(v.name, \"=\", v.varValue)\n",
    "    \n",
    "print(\"-\"*20)   \n",
    "print(\"Najnizszy koszt transportu do barów z magazynów: {} zł  \".format( value(prob.objective)))\n",
    "print(\"-\"*20)"
   ]
  },
  {
   "cell_type": "code",
   "execution_count": null,
   "metadata": {},
   "outputs": [],
   "source": []
  }
 ],
 "metadata": {
  "kernelspec": {
   "display_name": "Python 3",
   "language": "python",
   "name": "python3"
  },
  "language_info": {
   "codemirror_mode": {
    "name": "ipython",
    "version": 3
   },
   "file_extension": ".py",
   "mimetype": "text/x-python",
   "name": "python",
   "nbconvert_exporter": "python",
   "pygments_lexer": "ipython3",
   "version": "3.6.9"
  }
 },
 "nbformat": 4,
 "nbformat_minor": 2
}
