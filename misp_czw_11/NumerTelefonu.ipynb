{
 "cells": [
  {
   "cell_type": "code",
   "execution_count": 1,
   "metadata": {},
   "outputs": [
    {
     "name": "stdout",
     "output_type": "stream",
     "text": [
      "Numer prawidlowy\n"
     ]
    }
   ],
   "source": [
    "#deklarujemy 2 słowniki \n",
    "#pierwszy służy do deklaracji cyfr i przypisuje im słowne wartosci\n",
    "#drugi przypisuje numery kierunkowe poszczególnym miastą \n",
    "slownik_cyfr = {\"0\": \"zero\", \"1\": \"jeden\", \"2\": \"dwa\", \"3\": \"trzy\", \"4\": \"cztery\", \"5\": \"piec\", \"6\": \"szesc\", \"7\": \"siedem\", \"8\": \"osiem\", \"9\": \"dziewiec\"}\n",
    "slownik_wojewodztwa = {\"42\": \"Lodz\", \"22\": \"Warszawa\", \"71\": \"Wroclaw\"}\n",
    "\n",
    "class NumerTelefonu():\n",
    "    \n",
    "    def __init__ (self, numer): #funkcja ta sprawdza czy podany numer ma prawidłową długość \n",
    "        self.num = numer\n",
    "        if len(self.num) == 9:\n",
    "            print (\"Numer prawidlowy\") \n",
    "        else:\n",
    "            print (\"Numer nieprawidlowy\")\n",
    "            \n",
    "            \n",
    "    def wojewodztwo(self):\n",
    "        kierunkowy = self.num[0] + self.num[1] #funkcja ma za zadadanie rozpoznanie 2 pierwszych cyfr.\n",
    "        \n",
    "        for klucz in slownik_wojewodztwa.keys(): #następnie funkcja prównuje je ze słownikiem i przypisuje dane wojewodztwo.\n",
    "            if kierunkowy == klucz:\n",
    "                return slownik_wojewodztwa[klucz]\n",
    "            \n",
    "        woj = \"To jest numer komorkowy\"\n",
    "        return woj\n",
    "    \n",
    "    def __repr__(self): #funkcja zastępuje poszczególne cyfry słownymi odpowiednikami.\n",
    "        slownie = \"\"\n",
    "        for i in range(9):\n",
    "            slownie += slownik_cyfr[self.num[i]] + \" \"\n",
    "        return slownie\n",
    "            \n",
    "kogos = NumerTelefonu(\"712547689\") #deklarowanie numeru "
   ]
  },
  {
   "cell_type": "code",
   "execution_count": 2,
   "metadata": {},
   "outputs": [
    {
     "data": {
      "text/plain": [
       "'Wroclaw'"
      ]
     },
     "execution_count": 2,
     "metadata": {},
     "output_type": "execute_result"
    }
   ],
   "source": [
    "kogos.wojewodztwo() # wywołanie województwa "
   ]
  },
  {
   "cell_type": "code",
   "execution_count": 3,
   "metadata": {},
   "outputs": [
    {
     "name": "stdout",
     "output_type": "stream",
     "text": [
      "siedem jeden dwa piec cztery siedem szesc osiem dziewiec \n"
     ]
    }
   ],
   "source": [
    "print(kogos) #wywołanie numeru"
   ]
  },
  {
   "cell_type": "code",
   "execution_count": null,
   "metadata": {},
   "outputs": [],
   "source": []
  }
 ],
 "metadata": {
  "kernelspec": {
   "display_name": "Python 3",
   "language": "python",
   "name": "python3"
  },
  "language_info": {
   "codemirror_mode": {
    "name": "ipython",
    "version": 3
   },
   "file_extension": ".py",
   "mimetype": "text/x-python",
   "name": "python",
   "nbconvert_exporter": "python",
   "pygments_lexer": "ipython3",
   "version": "3.6.9"
  }
 },
 "nbformat": 4,
 "nbformat_minor": 2
}
